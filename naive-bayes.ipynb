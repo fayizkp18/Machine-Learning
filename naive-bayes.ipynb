{
 "cells": [
  {
   "cell_type": "code",
   "execution_count": 2,
   "id": "6dee282f-da43-41d8-b58c-c0978c16210b",
   "metadata": {},
   "outputs": [],
   "source": [
    "import numpy as np\n",
    "import pandas as pd"
   ]
  },
  {
   "cell_type": "code",
   "execution_count": 5,
   "id": "3fe08f65-250d-4a3e-b815-30f91e846b4e",
   "metadata": {},
   "outputs": [
    {
     "data": {
      "text/html": [
       "<div>\n",
       "<style scoped>\n",
       "    .dataframe tbody tr th:only-of-type {\n",
       "        vertical-align: middle;\n",
       "    }\n",
       "\n",
       "    .dataframe tbody tr th {\n",
       "        vertical-align: top;\n",
       "    }\n",
       "\n",
       "    .dataframe thead th {\n",
       "        text-align: right;\n",
       "    }\n",
       "</style>\n",
       "<table border=\"1\" class=\"dataframe\">\n",
       "  <thead>\n",
       "    <tr style=\"text-align: right;\">\n",
       "      <th></th>\n",
       "      <th>text</th>\n",
       "      <th>spam</th>\n",
       "    </tr>\n",
       "  </thead>\n",
       "  <tbody>\n",
       "    <tr>\n",
       "      <th>0</th>\n",
       "      <td>Subject: naturally irresistible your corporate...</td>\n",
       "      <td>1</td>\n",
       "    </tr>\n",
       "    <tr>\n",
       "      <th>1</th>\n",
       "      <td>Subject: the stock trading gunslinger  fanny i...</td>\n",
       "      <td>1</td>\n",
       "    </tr>\n",
       "    <tr>\n",
       "      <th>2</th>\n",
       "      <td>Subject: unbelievable new homes made easy  im ...</td>\n",
       "      <td>1</td>\n",
       "    </tr>\n",
       "    <tr>\n",
       "      <th>3</th>\n",
       "      <td>Subject: 4 color printing special  request add...</td>\n",
       "      <td>1</td>\n",
       "    </tr>\n",
       "    <tr>\n",
       "      <th>4</th>\n",
       "      <td>Subject: do not have money , get software cds ...</td>\n",
       "      <td>1</td>\n",
       "    </tr>\n",
       "    <tr>\n",
       "      <th>5</th>\n",
       "      <td>Subject: great nnews  hello , welcome to medzo...</td>\n",
       "      <td>1</td>\n",
       "    </tr>\n",
       "    <tr>\n",
       "      <th>6</th>\n",
       "      <td>Subject: here ' s a hot play in motion  homela...</td>\n",
       "      <td>1</td>\n",
       "    </tr>\n",
       "    <tr>\n",
       "      <th>7</th>\n",
       "      <td>Subject: save your money buy getting this thin...</td>\n",
       "      <td>1</td>\n",
       "    </tr>\n",
       "    <tr>\n",
       "      <th>8</th>\n",
       "      <td>Subject: undeliverable : home based business f...</td>\n",
       "      <td>1</td>\n",
       "    </tr>\n",
       "    <tr>\n",
       "      <th>9</th>\n",
       "      <td>Subject: save your money buy getting this thin...</td>\n",
       "      <td>1</td>\n",
       "    </tr>\n",
       "  </tbody>\n",
       "</table>\n",
       "</div>"
      ],
      "text/plain": [
       "                                                text  spam\n",
       "0  Subject: naturally irresistible your corporate...     1\n",
       "1  Subject: the stock trading gunslinger  fanny i...     1\n",
       "2  Subject: unbelievable new homes made easy  im ...     1\n",
       "3  Subject: 4 color printing special  request add...     1\n",
       "4  Subject: do not have money , get software cds ...     1\n",
       "5  Subject: great nnews  hello , welcome to medzo...     1\n",
       "6  Subject: here ' s a hot play in motion  homela...     1\n",
       "7  Subject: save your money buy getting this thin...     1\n",
       "8  Subject: undeliverable : home based business f...     1\n",
       "9  Subject: save your money buy getting this thin...     1"
      ]
     },
     "execution_count": 5,
     "metadata": {},
     "output_type": "execute_result"
    }
   ],
   "source": [
    "emails = pd.read_csv(r'C:\\Users\\shakkeer kalody\\Downloads\\emails.csv')\n",
    "emails.head(10)"
   ]
  },
  {
   "cell_type": "code",
   "execution_count": 6,
   "id": "0862cd93-6dbc-4100-92a0-079e6d49d976",
   "metadata": {},
   "outputs": [],
   "source": [
    "from sklearn.model_selection import train_test_split\n",
    "X_train, X_test, Y_train, Y_test = train_test_split(emails['text'],emails['spam'],random_state=0)"
   ]
  },
  {
   "cell_type": "markdown",
   "id": "801504f9-e6b6-4afa-879a-deb110288e59",
   "metadata": {},
   "source": [
    "<!-- emails['text']: This selects the 'text' column from the emails DataFrame\n",
    "emails['spam']: This selects the 'spam' column, which likely contains labels indicating whether each email is spam or not.\n",
    "random_state=0: This is used to ensure reproducibility of the results. Setting random_state to a fixed value (here, 0) ensures that each time you run the split, you get the same output. -->"
   ]
  },
  {
   "cell_type": "code",
   "execution_count": 7,
   "id": "d8905932-f5cb-48f1-b678-7292fa149bc4",
   "metadata": {},
   "outputs": [],
   "source": [
    "# emails['text']: This selects the 'text' column from the emails DataFrame.\n",
    "# emails['spam']: This selects the 'spam' column, which likely contains labels indicating whether each email is spam or not.\n",
    "# random_state=0: This is used to ensure reproducibility of the results. Setting random_state to a fixed value (here, 0) ensures that each time you\n",
    "#run the split, you get the same output.\n"
   ]
  },
  {
   "cell_type": "code",
   "execution_count": 8,
   "id": "5278a1b3-c06f-4699-b024-5f77529e13a7",
   "metadata": {},
   "outputs": [
    {
     "data": {
      "text/plain": [
       "(4296,)"
      ]
     },
     "execution_count": 8,
     "metadata": {},
     "output_type": "execute_result"
    }
   ],
   "source": [
    "X_train.shape"
   ]
  },
  {
   "cell_type": "code",
   "execution_count": 9,
   "id": "f9d0b7fa-a4d5-4576-854f-4fa2cb691231",
   "metadata": {},
   "outputs": [
    {
     "data": {
      "text/plain": [
       "(1432,)"
      ]
     },
     "execution_count": 9,
     "metadata": {},
     "output_type": "execute_result"
    }
   ],
   "source": [
    "X_test.shape"
   ]
  },
  {
   "cell_type": "code",
   "execution_count": null,
   "id": "267be8d7-a5d5-49df-aefe-d5503bb2cff7",
   "metadata": {},
   "outputs": [],
   "source": [
    "#CountVectorizer"
   ]
  },
  {
   "cell_type": "code",
   "execution_count": 10,
   "id": "a93a5b94-4b2b-4b67-9870-ff60fe058255",
   "metadata": {},
   "outputs": [],
   "source": [
    "text = [\"helloo, my name is Hari\",\n",
    "       \"this is my python notebook\",\n",
    "       \"Hari is trying to teach count vectorizer\"]"
   ]
  },
  {
   "cell_type": "code",
   "execution_count": 12,
   "id": "a170f36b-9bb8-4a6c-ab9c-847343a54221",
   "metadata": {},
   "outputs": [],
   "source": [
    "from sklearn.feature_extraction.text import CountVectorizer"
   ]
  },
  {
   "cell_type": "code",
   "execution_count": 13,
   "id": "2e1ecd28-eb8b-4620-a760-7dfde6c836b1",
   "metadata": {},
   "outputs": [
    {
     "name": "stdout",
     "output_type": "stream",
     "text": [
      "  (0, 2)\t1\n",
      "  (0, 4)\t1\n",
      "  (0, 5)\t1\n",
      "  (0, 3)\t1\n",
      "  (0, 1)\t1\n",
      "  (1, 4)\t1\n",
      "  (1, 3)\t1\n",
      "  (1, 9)\t1\n",
      "  (1, 7)\t1\n",
      "  (1, 6)\t1\n",
      "  (2, 3)\t1\n",
      "  (2, 1)\t1\n",
      "  (2, 11)\t1\n",
      "  (2, 10)\t1\n",
      "  (2, 8)\t1\n",
      "  (2, 0)\t1\n",
      "  (2, 12)\t1\n"
     ]
    }
   ],
   "source": [
    "count_vect = CountVectorizer()\n",
    "count_matrix = count_vect.fit_transform(text)\n",
    "print(count_matrix)"
   ]
  },
  {
   "cell_type": "code",
   "execution_count": 15,
   "id": "87143af3-eba6-45af-a832-24467f611fe4",
   "metadata": {},
   "outputs": [
    {
     "data": {
      "text/html": [
       "<div>\n",
       "<style scoped>\n",
       "    .dataframe tbody tr th:only-of-type {\n",
       "        vertical-align: middle;\n",
       "    }\n",
       "\n",
       "    .dataframe tbody tr th {\n",
       "        vertical-align: top;\n",
       "    }\n",
       "\n",
       "    .dataframe thead th {\n",
       "        text-align: right;\n",
       "    }\n",
       "</style>\n",
       "<table border=\"1\" class=\"dataframe\">\n",
       "  <thead>\n",
       "    <tr style=\"text-align: right;\">\n",
       "      <th></th>\n",
       "      <th>count</th>\n",
       "      <th>hari</th>\n",
       "      <th>helloo</th>\n",
       "      <th>is</th>\n",
       "      <th>my</th>\n",
       "      <th>name</th>\n",
       "      <th>notebook</th>\n",
       "      <th>python</th>\n",
       "      <th>teach</th>\n",
       "      <th>this</th>\n",
       "      <th>to</th>\n",
       "      <th>trying</th>\n",
       "      <th>vectorizer</th>\n",
       "    </tr>\n",
       "  </thead>\n",
       "  <tbody>\n",
       "    <tr>\n",
       "      <th>0</th>\n",
       "      <td>0</td>\n",
       "      <td>1</td>\n",
       "      <td>1</td>\n",
       "      <td>1</td>\n",
       "      <td>1</td>\n",
       "      <td>1</td>\n",
       "      <td>0</td>\n",
       "      <td>0</td>\n",
       "      <td>0</td>\n",
       "      <td>0</td>\n",
       "      <td>0</td>\n",
       "      <td>0</td>\n",
       "      <td>0</td>\n",
       "    </tr>\n",
       "    <tr>\n",
       "      <th>1</th>\n",
       "      <td>0</td>\n",
       "      <td>0</td>\n",
       "      <td>0</td>\n",
       "      <td>1</td>\n",
       "      <td>1</td>\n",
       "      <td>0</td>\n",
       "      <td>1</td>\n",
       "      <td>1</td>\n",
       "      <td>0</td>\n",
       "      <td>1</td>\n",
       "      <td>0</td>\n",
       "      <td>0</td>\n",
       "      <td>0</td>\n",
       "    </tr>\n",
       "    <tr>\n",
       "      <th>2</th>\n",
       "      <td>1</td>\n",
       "      <td>1</td>\n",
       "      <td>0</td>\n",
       "      <td>1</td>\n",
       "      <td>0</td>\n",
       "      <td>0</td>\n",
       "      <td>0</td>\n",
       "      <td>0</td>\n",
       "      <td>1</td>\n",
       "      <td>0</td>\n",
       "      <td>1</td>\n",
       "      <td>1</td>\n",
       "      <td>1</td>\n",
       "    </tr>\n",
       "  </tbody>\n",
       "</table>\n",
       "</div>"
      ],
      "text/plain": [
       "   count  hari  helloo  is  my  name  notebook  python  teach  this  to  \\\n",
       "0      0     1       1   1   1     1         0       0      0     0   0   \n",
       "1      0     0       0   1   1     0         1       1      0     1   0   \n",
       "2      1     1       0   1   0     0         0       0      1     0   1   \n",
       "\n",
       "   trying  vectorizer  \n",
       "0       0           0  \n",
       "1       0           0  \n",
       "2       1           1  "
      ]
     },
     "execution_count": 15,
     "metadata": {},
     "output_type": "execute_result"
    }
   ],
   "source": [
    "count_array = count_matrix.toarray()\n",
    "df = pd.DataFrame(data = count_array,columns = count_vect.get_feature_names_out())\n",
    "df"
   ]
  },
  {
   "cell_type": "code",
   "execution_count": 18,
   "id": "763a41db-6edf-4678-803f-a06e74ead183",
   "metadata": {},
   "outputs": [],
   "source": [
    "text1 = [\"helloo, my name is is Hari\",\n",
    "       \"this is my python notebook\",\n",
    "       \"Hari is trying to to teach count vectorizer\"]"
   ]
  },
  {
   "cell_type": "code",
   "execution_count": 21,
   "id": "94cd4d82-d5b6-4864-8960-78b7c35cda1e",
   "metadata": {},
   "outputs": [
    {
     "name": "stdout",
     "output_type": "stream",
     "text": [
      "  (0, 2)\t1\n",
      "  (0, 4)\t1\n",
      "  (0, 5)\t1\n",
      "  (0, 3)\t2\n",
      "  (0, 1)\t1\n",
      "  (1, 4)\t1\n",
      "  (1, 3)\t1\n",
      "  (1, 9)\t1\n",
      "  (1, 7)\t1\n",
      "  (1, 6)\t1\n",
      "  (2, 3)\t1\n",
      "  (2, 1)\t1\n",
      "  (2, 11)\t1\n",
      "  (2, 10)\t2\n",
      "  (2, 8)\t1\n",
      "  (2, 0)\t1\n",
      "  (2, 12)\t1\n"
     ]
    }
   ],
   "source": [
    "count_vect = CountVectorizer()\n",
    "count_matrix = count_vect.fit_transform(text1)\n",
    "print(count_matrix)"
   ]
  },
  {
   "cell_type": "code",
   "execution_count": 22,
   "id": "267c3065-d50b-4591-b33e-7eb8363567cb",
   "metadata": {},
   "outputs": [
    {
     "data": {
      "text/html": [
       "<div>\n",
       "<style scoped>\n",
       "    .dataframe tbody tr th:only-of-type {\n",
       "        vertical-align: middle;\n",
       "    }\n",
       "\n",
       "    .dataframe tbody tr th {\n",
       "        vertical-align: top;\n",
       "    }\n",
       "\n",
       "    .dataframe thead th {\n",
       "        text-align: right;\n",
       "    }\n",
       "</style>\n",
       "<table border=\"1\" class=\"dataframe\">\n",
       "  <thead>\n",
       "    <tr style=\"text-align: right;\">\n",
       "      <th></th>\n",
       "      <th>count</th>\n",
       "      <th>hari</th>\n",
       "      <th>helloo</th>\n",
       "      <th>is</th>\n",
       "      <th>my</th>\n",
       "      <th>name</th>\n",
       "      <th>notebook</th>\n",
       "      <th>python</th>\n",
       "      <th>teach</th>\n",
       "      <th>this</th>\n",
       "      <th>to</th>\n",
       "      <th>trying</th>\n",
       "      <th>vectorizer</th>\n",
       "    </tr>\n",
       "  </thead>\n",
       "  <tbody>\n",
       "    <tr>\n",
       "      <th>0</th>\n",
       "      <td>0</td>\n",
       "      <td>1</td>\n",
       "      <td>1</td>\n",
       "      <td>2</td>\n",
       "      <td>1</td>\n",
       "      <td>1</td>\n",
       "      <td>0</td>\n",
       "      <td>0</td>\n",
       "      <td>0</td>\n",
       "      <td>0</td>\n",
       "      <td>0</td>\n",
       "      <td>0</td>\n",
       "      <td>0</td>\n",
       "    </tr>\n",
       "    <tr>\n",
       "      <th>1</th>\n",
       "      <td>0</td>\n",
       "      <td>0</td>\n",
       "      <td>0</td>\n",
       "      <td>1</td>\n",
       "      <td>1</td>\n",
       "      <td>0</td>\n",
       "      <td>1</td>\n",
       "      <td>1</td>\n",
       "      <td>0</td>\n",
       "      <td>1</td>\n",
       "      <td>0</td>\n",
       "      <td>0</td>\n",
       "      <td>0</td>\n",
       "    </tr>\n",
       "    <tr>\n",
       "      <th>2</th>\n",
       "      <td>1</td>\n",
       "      <td>1</td>\n",
       "      <td>0</td>\n",
       "      <td>1</td>\n",
       "      <td>0</td>\n",
       "      <td>0</td>\n",
       "      <td>0</td>\n",
       "      <td>0</td>\n",
       "      <td>1</td>\n",
       "      <td>0</td>\n",
       "      <td>2</td>\n",
       "      <td>1</td>\n",
       "      <td>1</td>\n",
       "    </tr>\n",
       "  </tbody>\n",
       "</table>\n",
       "</div>"
      ],
      "text/plain": [
       "   count  hari  helloo  is  my  name  notebook  python  teach  this  to  \\\n",
       "0      0     1       1   2   1     1         0       0      0     0   0   \n",
       "1      0     0       0   1   1     0         1       1      0     1   0   \n",
       "2      1     1       0   1   0     0         0       0      1     0   2   \n",
       "\n",
       "   trying  vectorizer  \n",
       "0       0           0  \n",
       "1       0           0  \n",
       "2       1           1  "
      ]
     },
     "execution_count": 22,
     "metadata": {},
     "output_type": "execute_result"
    }
   ],
   "source": [
    "count_array = count_matrix.toarray()\n",
    "df1 = pd.DataFrame(data = count_array,columns = count_vect.get_feature_names_out())\n",
    "df1"
   ]
  },
  {
   "cell_type": "code",
   "execution_count": 23,
   "id": "2fd4b550-fd4f-4d79-b0d8-e2960802811f",
   "metadata": {},
   "outputs": [
    {
     "data": {
      "text/plain": [
       "(4296, 316823)"
      ]
     },
     "execution_count": 23,
     "metadata": {},
     "output_type": "execute_result"
    }
   ],
   "source": [
    "from sklearn.feature_extraction.text import CountVectorizer\n",
    "vectorizer = CountVectorizer(ngram_range=(1, 2)).fit(X_train)\n",
    "X_train_vectorized = vectorizer.transform(X_train)\n",
    "X_train_vectorized.toarray().shape"
   ]
  },
  {
   "cell_type": "code",
   "execution_count": 24,
   "id": "575538db-6863-42d5-b918-ba29d32bc4fb",
   "metadata": {},
   "outputs": [
    {
     "name": "stdout",
     "output_type": "stream",
     "text": [
      "  (0, 11013)\t1\n",
      "  (0, 11097)\t1\n",
      "  (0, 35157)\t1\n",
      "  (0, 35182)\t1\n",
      "  (0, 36778)\t1\n",
      "  (0, 37176)\t1\n",
      "  (0, 54908)\t1\n",
      "  (0, 54909)\t1\n",
      "  (0, 60591)\t1\n",
      "  (0, 73359)\t1\n",
      "  (0, 73362)\t1\n",
      "  (0, 104750)\t1\n",
      "  (0, 104765)\t1\n",
      "  (0, 105044)\t1\n",
      "  (0, 105049)\t1\n",
      "  (0, 114141)\t1\n",
      "  (0, 115433)\t1\n",
      "  (0, 123021)\t1\n",
      "  (0, 123283)\t1\n",
      "  (0, 130984)\t1\n",
      "  (0, 131009)\t1\n",
      "  (0, 137758)\t1\n",
      "  (0, 137768)\t1\n",
      "  (0, 140464)\t2\n",
      "  (0, 141073)\t1\n",
      "  :\t:\n",
      "  (4295, 186244)\t1\n",
      "  (4295, 193140)\t1\n",
      "  (4295, 194802)\t1\n",
      "  (4295, 200951)\t1\n",
      "  (4295, 201258)\t1\n",
      "  (4295, 213672)\t1\n",
      "  (4295, 213805)\t1\n",
      "  (4295, 216433)\t1\n",
      "  (4295, 216435)\t1\n",
      "  (4295, 221779)\t1\n",
      "  (4295, 221842)\t1\n",
      "  (4295, 224561)\t1\n",
      "  (4295, 238078)\t2\n",
      "  (4295, 238103)\t1\n",
      "  (4295, 238151)\t1\n",
      "  (4295, 258145)\t1\n",
      "  (4295, 258149)\t1\n",
      "  (4295, 258625)\t1\n",
      "  (4295, 258647)\t1\n",
      "  (4295, 261624)\t1\n",
      "  (4295, 261923)\t1\n",
      "  (4295, 292928)\t1\n",
      "  (4295, 292934)\t1\n",
      "  (4295, 313721)\t1\n",
      "  (4295, 314302)\t1\n"
     ]
    }
   ],
   "source": [
    "print(X_train_vectorized)"
   ]
  },
  {
   "cell_type": "markdown",
   "id": "9d5083a5-bd49-4200-bf1c-c952c95e817d",
   "metadata": {},
   "source": [
    "from sklearn.feature_extraction.text import CountVectorizer: This imports the CountVectorizer class from scikit-learn's feature_extraction.text module. CountVectorizer is used to convert a collection of text documents into a matrix of token counts."
   ]
  },
  {
   "cell_type": "markdown",
   "id": "b76a0c8d-a812-4d64-9cc4-e9c6882851c9",
   "metadata": {},
   "source": [
    "vectorizer = CountVectorizer(ngram_range=(1, 2)).fit(X_train): Creates an instance of CountVectorizer with ngram_range=(1, 2), which means it will consider both unigrams (single words) and bigrams (pairs of adjacent words).\n",
    "vectorizer.fit(X_train): Fits the CountVectorizer on X_train, which means it learns the vocabulary (list of all unique words and n-grams) from the training data."
   ]
  },
  {
   "cell_type": "code",
   "execution_count": 25,
   "id": "ece4c815-cbbc-4c2b-8486-5c25de97137b",
   "metadata": {},
   "outputs": [
    {
     "data": {
      "text/html": [
       "<style>#sk-container-id-1 {color: black;background-color: white;}#sk-container-id-1 pre{padding: 0;}#sk-container-id-1 div.sk-toggleable {background-color: white;}#sk-container-id-1 label.sk-toggleable__label {cursor: pointer;display: block;width: 100%;margin-bottom: 0;padding: 0.3em;box-sizing: border-box;text-align: center;}#sk-container-id-1 label.sk-toggleable__label-arrow:before {content: \"▸\";float: left;margin-right: 0.25em;color: #696969;}#sk-container-id-1 label.sk-toggleable__label-arrow:hover:before {color: black;}#sk-container-id-1 div.sk-estimator:hover label.sk-toggleable__label-arrow:before {color: black;}#sk-container-id-1 div.sk-toggleable__content {max-height: 0;max-width: 0;overflow: hidden;text-align: left;background-color: #f0f8ff;}#sk-container-id-1 div.sk-toggleable__content pre {margin: 0.2em;color: black;border-radius: 0.25em;background-color: #f0f8ff;}#sk-container-id-1 input.sk-toggleable__control:checked~div.sk-toggleable__content {max-height: 200px;max-width: 100%;overflow: auto;}#sk-container-id-1 input.sk-toggleable__control:checked~label.sk-toggleable__label-arrow:before {content: \"▾\";}#sk-container-id-1 div.sk-estimator input.sk-toggleable__control:checked~label.sk-toggleable__label {background-color: #d4ebff;}#sk-container-id-1 div.sk-label input.sk-toggleable__control:checked~label.sk-toggleable__label {background-color: #d4ebff;}#sk-container-id-1 input.sk-hidden--visually {border: 0;clip: rect(1px 1px 1px 1px);clip: rect(1px, 1px, 1px, 1px);height: 1px;margin: -1px;overflow: hidden;padding: 0;position: absolute;width: 1px;}#sk-container-id-1 div.sk-estimator {font-family: monospace;background-color: #f0f8ff;border: 1px dotted black;border-radius: 0.25em;box-sizing: border-box;margin-bottom: 0.5em;}#sk-container-id-1 div.sk-estimator:hover {background-color: #d4ebff;}#sk-container-id-1 div.sk-parallel-item::after {content: \"\";width: 100%;border-bottom: 1px solid gray;flex-grow: 1;}#sk-container-id-1 div.sk-label:hover label.sk-toggleable__label {background-color: #d4ebff;}#sk-container-id-1 div.sk-serial::before {content: \"\";position: absolute;border-left: 1px solid gray;box-sizing: border-box;top: 0;bottom: 0;left: 50%;z-index: 0;}#sk-container-id-1 div.sk-serial {display: flex;flex-direction: column;align-items: center;background-color: white;padding-right: 0.2em;padding-left: 0.2em;position: relative;}#sk-container-id-1 div.sk-item {position: relative;z-index: 1;}#sk-container-id-1 div.sk-parallel {display: flex;align-items: stretch;justify-content: center;background-color: white;position: relative;}#sk-container-id-1 div.sk-item::before, #sk-container-id-1 div.sk-parallel-item::before {content: \"\";position: absolute;border-left: 1px solid gray;box-sizing: border-box;top: 0;bottom: 0;left: 50%;z-index: -1;}#sk-container-id-1 div.sk-parallel-item {display: flex;flex-direction: column;z-index: 1;position: relative;background-color: white;}#sk-container-id-1 div.sk-parallel-item:first-child::after {align-self: flex-end;width: 50%;}#sk-container-id-1 div.sk-parallel-item:last-child::after {align-self: flex-start;width: 50%;}#sk-container-id-1 div.sk-parallel-item:only-child::after {width: 0;}#sk-container-id-1 div.sk-dashed-wrapped {border: 1px dashed gray;margin: 0 0.4em 0.5em 0.4em;box-sizing: border-box;padding-bottom: 0.4em;background-color: white;}#sk-container-id-1 div.sk-label label {font-family: monospace;font-weight: bold;display: inline-block;line-height: 1.2em;}#sk-container-id-1 div.sk-label-container {text-align: center;}#sk-container-id-1 div.sk-container {/* jupyter's `normalize.less` sets `[hidden] { display: none; }` but bootstrap.min.css set `[hidden] { display: none !important; }` so we also need the `!important` here to be able to override the default hidden behavior on the sphinx rendered scikit-learn.org. See: https://github.com/scikit-learn/scikit-learn/issues/21755 */display: inline-block !important;position: relative;}#sk-container-id-1 div.sk-text-repr-fallback {display: none;}</style><div id=\"sk-container-id-1\" class=\"sk-top-container\"><div class=\"sk-text-repr-fallback\"><pre>MultinomialNB(alpha=0.1)</pre><b>In a Jupyter environment, please rerun this cell to show the HTML representation or trust the notebook. <br />On GitHub, the HTML representation is unable to render, please try loading this page with nbviewer.org.</b></div><div class=\"sk-container\" hidden><div class=\"sk-item\"><div class=\"sk-estimator sk-toggleable\"><input class=\"sk-toggleable__control sk-hidden--visually\" id=\"sk-estimator-id-1\" type=\"checkbox\" checked><label for=\"sk-estimator-id-1\" class=\"sk-toggleable__label sk-toggleable__label-arrow\">MultinomialNB</label><div class=\"sk-toggleable__content\"><pre>MultinomialNB(alpha=0.1)</pre></div></div></div></div></div>"
      ],
      "text/plain": [
       "MultinomialNB(alpha=0.1)"
      ]
     },
     "execution_count": 25,
     "metadata": {},
     "output_type": "execute_result"
    }
   ],
   "source": [
    "from sklearn.naive_bayes import MultinomialNB\n",
    "model = MultinomialNB(alpha=0.1)\n",
    "model.fit(X_train_vectorized, Y_train)"
   ]
  },
  {
   "cell_type": "markdown",
   "id": "f3d41798-a76e-4b54-9338-351448225846",
   "metadata": {},
   "source": [
    "The MultinomialNB classifier in scikit-learn is a variant of the Naive Bayes classifier specifically designed for multinomially distributed data, which is typically used in text classification tasks where the features are often word counts or term frequencies."
   ]
  },
  {
   "cell_type": "markdown",
   "id": "4d8435a0-2db8-4d2a-b4e6-51af8ff774c8",
   "metadata": {},
   "source": [
    "alpha is a smoothing parameter (Laplace smoothing) added to the feature counts to avoid zero probabilities when a feature doesn't occur in the training data."
   ]
  },
  {
   "cell_type": "markdown",
   "id": "0d11ad63-7ab0-4565-b6f9-7d1e6c197a00",
   "metadata": {},
   "source": [
    "A common choice for alpha is 1.0 (Laplace smoothing), but it can be adjusted based on the characteristics of your data and to control model complexity.\n",
    "Output: After training, MultinomialNB computes probabilities for each class given a set of features and predicts the class with the highest probability."
   ]
  },
  {
   "cell_type": "code",
   "execution_count": 26,
   "id": "b16b2846-0f63-4226-bf14-6e9d151c1227",
   "metadata": {},
   "outputs": [
    {
     "name": "stdout",
     "output_type": "stream",
     "text": [
      "Accuracy: 99.09217877094972 %\n"
     ]
    }
   ],
   "source": [
    "predictions = model.predict(vectorizer.transform(X_test))\n",
    "print(\"Accuracy:\", 100 * sum(predictions == Y_test) / len(predictions), '%')"
   ]
  },
  {
   "cell_type": "markdown",
   "id": "dab9dd29-eb17-461d-96f4-b478f9fe9cfa",
   "metadata": {},
   "source": [
    "Comparison: The comparison predictions == Y_test will give you a boolean array where True indicates a correct prediction and False indicates an incorrect prediction.\n",
    "\n",
    "Summing Correct Predictions: sum(predictions == Y_test) will count how many predictions match the true labels (Y_test).\n",
    "\n",
    "Calculating Accuracy: Divide the count of correct predictions by the total number of predictions (len(predictions)), and then multiply by 100 to convert it into a percentage."
   ]
  },
  {
   "cell_type": "code",
   "execution_count": 32,
   "id": "4ec8a971-b16b-407d-88a8-6097980f6621",
   "metadata": {},
   "outputs": [],
   "source": [
    "Ham =  \"Hi y’all, We have a Job Openings in the positions of software engineer, IT officer at ABC Company.Kindly, send us your resume and the cover letter as soon as possible if you think you are an eligible candidate and meet the criteria.\"\n",
    "    "
   ]
  },
  {
   "cell_type": "code",
   "execution_count": 33,
   "id": "dab5e39c-6824-40df-847c-0923a3f00f65",
   "metadata": {},
   "outputs": [],
   "source": [
    "Spam =\"congratulations, you became today's lucky winner\""
   ]
  },
  {
   "cell_type": "code",
   "execution_count": 30,
   "id": "d3d6313d-d79f-4967-a918-e2bfd38ae9fd",
   "metadata": {},
   "outputs": [
    {
     "data": {
      "text/plain": [
       "array([1])"
      ]
     },
     "execution_count": 30,
     "metadata": {},
     "output_type": "execute_result"
    }
   ],
   "source": [
    "model.predict(vectorizer.transform([Spam])) "
   ]
  },
  {
   "cell_type": "code",
   "execution_count": 34,
   "id": "067d366e-f853-49ff-8a90-54999d039a24",
   "metadata": {},
   "outputs": [
    {
     "data": {
      "text/plain": [
       "array([1])"
      ]
     },
     "execution_count": 34,
     "metadata": {},
     "output_type": "execute_result"
    }
   ],
   "source": [
    "model.predict(vectorizer.transform([Ham])) "
   ]
  },
  {
   "cell_type": "code",
   "execution_count": null,
   "id": "0355ae84-856e-4cc5-8dc7-11bacfc8feb1",
   "metadata": {},
   "outputs": [],
   "source": []
  }
 ],
 "metadata": {
  "kernelspec": {
   "display_name": "Python 3 (ipykernel)",
   "language": "python",
   "name": "python3"
  },
  "language_info": {
   "codemirror_mode": {
    "name": "ipython",
    "version": 3
   },
   "file_extension": ".py",
   "mimetype": "text/x-python",
   "name": "python",
   "nbconvert_exporter": "python",
   "pygments_lexer": "ipython3",
   "version": "3.11.7"
  }
 },
 "nbformat": 4,
 "nbformat_minor": 5
}
